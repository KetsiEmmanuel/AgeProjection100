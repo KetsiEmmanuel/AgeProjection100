{
 "cells": [
  {
   "cell_type": "code",
   "execution_count": 21,
   "id": "0f3e1ecd-1917-4966-b8ee-dfb75a0a6faa",
   "metadata": {},
   "outputs": [
    {
     "name": "stdin",
     "output_type": "stream",
     "text": [
      "Enter Your Name: Ketsi\n",
      "Enter Your Age Here: 23\n"
     ]
    },
    {
     "name": "stdout",
     "output_type": "stream",
     "text": [
      "Hello Ketsi, Your Age In 100 Years Will Be 123 Years\n",
      "\n",
      "Your Turn 100 in the year:2101\n"
     ]
    }
   ],
   "source": [
    "import datetime\n",
    "\n",
    "while True:\n",
    "    name = input(\"Enter Your Name:\")\n",
    "    age = input(\"Enter Your Age Here:\")\n",
    "    \n",
    "    \n",
    "    try:\n",
    "        age = int(age)\n",
    "        break\n",
    "    except ValueError:\n",
    "        try:\n",
    "            name = str(name)\n",
    "            break\n",
    "        except ValueError:\n",
    "            print('INVALID: Age should be a number, and name should be a string.')\n",
    "            print()\n",
    "\n",
    "if isinstance(age, int) and not isinstance(name, str):\n",
    "    print(\"Name is missing.\")\n",
    "    \n",
    "elif isinstance(name, str) and not isinstance(age, int):\n",
    "    print(\"Age is missing.\")\n",
    "    \n",
    "else:\n",
    "    currentyear=datetime.datetime.now().year\n",
    "    #birth_year= current_year - age\n",
    "    #birth_year= currentyear-age\n",
    "    projection= currentyear + (100-age)\n",
    "    newage = age + 100\n",
    "    \n",
    "    print(\"Hello \" + name + \", Your Age In 100 Years Will Be \" + str(newage) + \" Years\" )\n",
    "    print()\n",
    "    print(\"Your Turn 100 in the year:\" + str(projection))\n"
   ]
  },
  {
   "cell_type": "code",
   "execution_count": null,
   "id": "ffe53d3c-02ea-4a82-becf-d8fcfe246ef2",
   "metadata": {},
   "outputs": [],
   "source": []
  },
  {
   "cell_type": "code",
   "execution_count": null,
   "id": "cd6590ab-12a4-499c-97d1-2138e21f5d8e",
   "metadata": {},
   "outputs": [],
   "source": []
  }
 ],
 "metadata": {
  "kernelspec": {
   "display_name": "Python 3 (ipykernel)",
   "language": "python",
   "name": "python3"
  },
  "language_info": {
   "codemirror_mode": {
    "name": "ipython",
    "version": 3
   },
   "file_extension": ".py",
   "mimetype": "text/x-python",
   "name": "python",
   "nbconvert_exporter": "python",
   "pygments_lexer": "ipython3",
   "version": "3.12.3"
  }
 },
 "nbformat": 4,
 "nbformat_minor": 5
}
